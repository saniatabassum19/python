{
 "cells": [
  {
   "cell_type": "code",
   "execution_count": 2,
   "id": "fc42574a-6dab-495d-a941-426b6829efca",
   "metadata": {},
   "outputs": [
    {
     "name": "stdout",
     "output_type": "stream",
     "text": [
      "23:19:16\n",
      "23\n",
      "19\n",
      "16\n"
     ]
    }
   ],
   "source": [
    "import time\n",
    "timestamp = time.strftime('%H:%M:%S')\n",
    "print(timestamp)\n",
    "timestamp = time.strftime('%H')\n",
    "print(timestamp)\n",
    "timestamp = time.strftime('%M')\n",
    "print(timestamp)\n",
    "timestamp = time.strftime('%S')\n",
    "print(timestamp)\n",
    "# https://docs.python.org/3/library/time.html#time.strftime"
   ]
  },
  {
   "cell_type": "code",
   "execution_count": 43,
   "id": "6f6909a2-1d58-44ad-9fb0-b56a43c493b1",
   "metadata": {},
   "outputs": [
    {
     "name": "stdout",
     "output_type": "stream",
     "text": [
      "Good Evening!\n"
     ]
    }
   ],
   "source": [
    " import time\n",
    "\n",
    "hour = int(time.strftime('%H'))  \n",
    "\n",
    "if hour < 12:\n",
    "    print(\"Good Morning!\")\n",
    "elif 12 <= hour < 17:\n",
    "    print(\"Good Afternoon!\")\n",
    "else:\n",
    "    print(\"Good Evening!\")\n"
   ]
  },
  {
   "cell_type": "code",
   "execution_count": 42,
   "id": "e6dc0f3d-16d4-4d76-8afd-a493f8b2aff4",
   "metadata": {},
   "outputs": [
    {
     "name": "stdout",
     "output_type": "stream",
     "text": [
      "23:54:00\n",
      "Good Night, Sania\n"
     ]
    }
   ],
   "source": [
    "import time\n",
    "hour = (time.strftime('%H:%M:%S'))\n",
    "print(hour)\n",
    "hour=int(time.strftime('%H'))\n",
    "if(hour<12):\n",
    "    print(\"Good Morning\")\n",
    "elif(hour>=12 and hour<16):\n",
    "    print(\"Good Afternoon\")\n",
    "elif(hour>=16 and hour<20):\n",
    "    print(\"Good Evening\")\n",
    "else:\n",
    "    print(\"Good Night, Sania\") \n",
    "         \n"
   ]
  },
  {
   "cell_type": "code",
   "execution_count": 45,
   "id": "3959a97c-77f4-4288-8fe1-09f509ecaf6c",
   "metadata": {},
   "outputs": [
    {
     "name": "stdout",
     "output_type": "stream",
     "text": [
      "00:46:04\n",
      "Good Morning\n"
     ]
    }
   ],
   "source": [
    "import time\n",
    "hour = (time.strftime('%H:%M:%S'))\n",
    "print(hour)\n",
    "hour=int(time.strftime('%H'))\n",
    "if(hour<12):\n",
    "    print(\"Good Morning\")\n",
    "elif(hour>=12 and hour<16):\n",
    "    print(\"Good Afternoon\")\n",
    "elif(hour>=16 and hour<20):\n",
    "    print(\"Good Evening\")\n",
    "else:\n",
    "    print(\"Good Night, Sania\") "
   ]
  },
  {
   "cell_type": "code",
   "execution_count": 1,
   "id": "aabc3e61-0c23-494d-8637-613f9686b8bf",
   "metadata": {},
   "outputs": [
    {
     "name": "stdout",
     "output_type": "stream",
     "text": [
      "16:08:44\n",
      "Good Evening\n"
     ]
    }
   ],
   "source": [
    "import time\n",
    "hour = (time.strftime('%H:%M:%S'))\n",
    "print(hour)\n",
    "hour=int(time.strftime('%H'))\n",
    "if(hour<12):\n",
    "    print(\"Good Morning\")\n",
    "elif(hour>=12 and hour<16):\n",
    "    print(\"Good Afternoon\")\n",
    "elif(hour>=16 and hour<20):\n",
    "    print(\"Good Evening\")\n",
    "else:\n",
    "    print(\"Good Night, Sania\") "
   ]
  },
  {
   "cell_type": "code",
   "execution_count": null,
   "id": "cb4023df-cc38-409f-944a-e9484ea58e5c",
   "metadata": {},
   "outputs": [],
   "source": []
  }
 ],
 "metadata": {
  "kernelspec": {
   "display_name": "Python 3 (ipykernel)",
   "language": "python",
   "name": "python3"
  },
  "language_info": {
   "codemirror_mode": {
    "name": "ipython",
    "version": 3
   },
   "file_extension": ".py",
   "mimetype": "text/x-python",
   "name": "python",
   "nbconvert_exporter": "python",
   "pygments_lexer": "ipython3",
   "version": "3.12.3"
  }
 },
 "nbformat": 4,
 "nbformat_minor": 5
}
