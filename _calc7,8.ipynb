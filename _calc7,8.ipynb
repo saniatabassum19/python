{
 "cells": [
  {
   "cell_type": "code",
   "execution_count": 15,
   "id": "f61598b5-a170-42a4-92ff-e2e63ebb2d5a",
   "metadata": {
    "scrolled": true
   },
   "outputs": [
    {
     "name": "stdin",
     "output_type": "stream",
     "text": [
      "Enter a Num1: 11\n",
      "Enter a Num2: 12\n"
     ]
    },
    {
     "name": "stdout",
     "output_type": "stream",
     "text": [
      "Addition of 11 + 12 is 23\n",
      "the subtraction of  11 and 12 is -1\n",
      "Multiplication : 132\n",
      "modulus: 11\n",
      "floor divison: 0\n",
      "division of  11 and 12 is 0.9166666666666666\n",
      "expo: 3138428376721\n"
     ]
    }
   ],
   "source": [
    "num1=int(input(\"Enter a Num1:\"))\n",
    "num2=int(input(\"Enter a Num2:\"))\n",
    "sum=(num1+num2)\n",
    "print(\"Addition of\", num1 ,\"+\", num2, \"is\",sum)\n",
    "sub=num1-num2\n",
    "print(\"the subtraction of \",num1,\"and\",num2,\"is\",sub)\n",
    "mul=num1*num2\n",
    "print(\"Multiplication :\", mul)\n",
    "mod=num1%num2\n",
    "print(\"modulus:\",mod)\n",
    "flrdiv=num1//num2\n",
    "print(\"floor divison:\",flrdiv)\n",
    "div=num1/num2\n",
    "print(\"division of \",num1, \"and\",num2,\"is\",div)\n",
    "expo=num1**num2\n",
    "print(\"expo:\",expo)\n"
   ]
  },
  {
   "cell_type": "code",
   "execution_count": 42,
   "id": "b3bd4c13-48d7-4952-8147-fd907da6e6f5",
   "metadata": {
    "scrolled": true
   },
   "outputs": [
    {
     "name": "stdout",
     "output_type": "stream",
     "text": [
      "Addition of 5 and 3 is 8\n"
     ]
    }
   ],
   "source": [
    "print(\"Addition of\", a ,\"and\", b, \"is\",sum)"
   ]
  },
  {
   "cell_type": "code",
   "execution_count": 20,
   "id": "3c709131-eaa1-4d39-8e1f-134984a82280",
   "metadata": {},
   "outputs": [],
   "source": [
    "sum=a+b"
   ]
  },
  {
   "cell_type": "raw",
   "id": "8ca0e16a-0d49-49d0-aaba-ac2bbbe695b1",
   "metadata": {},
   "source": [
    "print(sum)"
   ]
  },
  {
   "cell_type": "code",
   "execution_count": 22,
   "id": "67792cfa-060f-4a79-974d-9059f9666968",
   "metadata": {},
   "outputs": [],
   "source": [
    "sub=a-b"
   ]
  },
  {
   "cell_type": "code",
   "execution_count": 23,
   "id": "ec866193-5d15-4af8-b632-6b1aac2f8817",
   "metadata": {},
   "outputs": [
    {
     "name": "stdout",
     "output_type": "stream",
     "text": [
      "the subtraction of  5 and 3 is 2\n"
     ]
    }
   ],
   "source": [
    "print(\"the subtraction of \",a,\"and\",b,\"is\",sub)"
   ]
  },
  {
   "cell_type": "code",
   "execution_count": 24,
   "id": "b2bdee18-14a8-4771-89f7-a6f6a9073db7",
   "metadata": {},
   "outputs": [],
   "source": [
    "mul=a*b"
   ]
  },
  {
   "cell_type": "code",
   "execution_count": 28,
   "id": "c9d231c1-fee7-476d-ab44-269945d08c13",
   "metadata": {},
   "outputs": [
    {
     "name": "stdout",
     "output_type": "stream",
     "text": [
      "Multiplication : 15\n"
     ]
    }
   ],
   "source": [
    "print(\"Multiplication :\", mul)"
   ]
  },
  {
   "cell_type": "code",
   "execution_count": 29,
   "id": "a1a9effa-45a9-4cc0-b410-c90fba9ba944",
   "metadata": {},
   "outputs": [],
   "source": [
    "div=a/b"
   ]
  },
  {
   "cell_type": "code",
   "execution_count": 30,
   "id": "8ae4acf8-7141-487b-a2c1-52f076d8fb70",
   "metadata": {},
   "outputs": [
    {
     "name": "stdout",
     "output_type": "stream",
     "text": [
      "division of  5 and 3 is 1.6666666666666667\n"
     ]
    }
   ],
   "source": [
    "print(\"division of \",a, \"and\",b,\"is\",div)"
   ]
  },
  {
   "cell_type": "code",
   "execution_count": 31,
   "id": "f63d56b0-36e2-4092-9400-3fa5e968683e",
   "metadata": {},
   "outputs": [],
   "source": [
    "mod=num1%num2"
   ]
  },
  {
   "cell_type": "code",
   "execution_count": 32,
   "id": "64021c2e-b3b5-4f54-820d-c4ba969c2b9d",
   "metadata": {},
   "outputs": [
    {
     "name": "stdout",
     "output_type": "stream",
     "text": [
      "modulus: 2\n"
     ]
    }
   ],
   "source": [
    "print(\"modulus:\",mod)"
   ]
  },
  {
   "cell_type": "code",
   "execution_count": 33,
   "id": "33c4dfc2-79e1-43c9-8538-3589e7e66a6d",
   "metadata": {},
   "outputs": [],
   "source": [
    "flrdiv=a//b"
   ]
  },
  {
   "cell_type": "code",
   "execution_count": 34,
   "id": "0eeda2f4-f13f-4e9b-b713-e964bbb2318a",
   "metadata": {},
   "outputs": [
    {
     "name": "stdout",
     "output_type": "stream",
     "text": [
      "floor divison: 1\n"
     ]
    }
   ],
   "source": [
    "print(\"floor divison:\",flrdiv)"
   ]
  },
  {
   "cell_type": "code",
   "execution_count": 35,
   "id": "c08ebba1-2053-4e16-9269-c0eac2c4febb",
   "metadata": {},
   "outputs": [],
   "source": [
    "expo=num1**num2"
   ]
  },
  {
   "cell_type": "code",
   "execution_count": 36,
   "id": "83fadbcc-a7af-4199-860d-da3bebd5bdf3",
   "metadata": {},
   "outputs": [
    {
     "name": "stdout",
     "output_type": "stream",
     "text": [
      "expo: 125\n"
     ]
    }
   ],
   "source": [
    "print(\"expo:\",expo)"
   ]
  },
  {
   "cell_type": "code",
   "execution_count": 16,
   "id": "57e0e7a6-0d7f-49b4-9bee-ea3050b1ce8d",
   "metadata": {},
   "outputs": [
    {
     "name": "stdout",
     "output_type": "stream",
     "text": [
      "The value of 50 + 3 is:  53\n",
      "The value of 50 - 3 is:  47\n",
      "The value of 50 * 3 is:  150\n",
      "The value of 50 / 3 is:  16.666666666666668\n"
     ]
    }
   ],
   "source": [
    "a = 50\n",
    "b = 3\n",
    "\n",
    "print(\"The value of\", a, \"+\", 3, \"is: \", a + b)\n",
    "print(\"The value of\", a, \"-\", 3, \"is: \", a - b)\n",
    "print(\"The value of\", a, \"*\", 3, \"is: \", a * b)\n",
    "print(\"The value of\", a, \"/\", 3, \"is: \", a / b)"
   ]
  },
  {
   "cell_type": "code",
   "execution_count": null,
   "id": "55c0a6c7-0b7b-4510-a242-fdaaf6dded4e",
   "metadata": {},
   "outputs": [],
   "source": []
  }
 ],
 "metadata": {
  "kernelspec": {
   "display_name": "Python 3 (ipykernel)",
   "language": "python",
   "name": "python3"
  },
  "language_info": {
   "codemirror_mode": {
    "name": "ipython",
    "version": 3
   },
   "file_extension": ".py",
   "mimetype": "text/x-python",
   "name": "python",
   "nbconvert_exporter": "python",
   "pygments_lexer": "ipython3",
   "version": "3.12.3"
  }
 },
 "nbformat": 4,
 "nbformat_minor": 5
}
