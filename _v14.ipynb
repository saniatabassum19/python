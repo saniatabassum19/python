{
 "cells": [
  {
   "cell_type": "code",
   "execution_count": 84,
   "id": "9f0cc160-236c-4816-863a-d8cec7f01062",
   "metadata": {},
   "outputs": [
    {
     "name": "stdin",
     "output_type": "stream",
     "text": [
      "Enter your age :  21\n"
     ]
    },
    {
     "name": "stdout",
     "output_type": "stream",
     "text": [
      " Your age is  21\n",
      "Your allowed to use phone\n",
      "False\n",
      "True\n",
      "False\n",
      "True\n",
      "False\n",
      "True\n"
     ]
    }
   ],
   "source": [
    "cs=int(input(\"Enter your age : \"))\n",
    "print( \" Your age is \",cs)\n",
    "if(cs>18):\n",
    "    print(\"Your allowed to use phone\")\n",
    "else:\n",
    "    print(\"your not allowed to use phone\")\n",
    "print(cs==18) # conditional operators \n",
    "print(cs>18)\n",
    "print(cs<18)\n",
    "print(cs!=18)\n",
    "print(cs<=18)\n",
    "print(cs>=18)"
   ]
  },
  {
   "cell_type": "code",
   "execution_count": 6,
   "id": "dc60313f-b4fd-4414-90c3-5b3a5a5bf9b5",
   "metadata": {},
   "outputs": [
    {
     "name": "stdout",
     "output_type": "stream",
     "text": [
      "Alexa, do not add Apples to the cart.\n"
     ]
    }
   ],
   "source": [
    "applePrice = 210\n",
    "budget = 200\n",
    "if (applePrice <= budget):\n",
    "    print(\"Alexa, add 1 kg Apples to the cart.\")\n",
    "else:\n",
    "    print(\"Alexa, do not add Apples to the cart.\")"
   ]
  },
  {
   "cell_type": "code",
   "execution_count": 27,
   "id": "594fa3bb-3e7e-47d6-9f0a-9b141f66e54d",
   "metadata": {},
   "outputs": [
    {
     "name": "stdin",
     "output_type": "stream",
     "text": [
      "Enter your marks: 59\n"
     ]
    },
    {
     "name": "stdout",
     "output_type": "stream",
     "text": [
      "sorry dear , your not elgible to get the gift 🎁 , good luck try again next time\n"
     ]
    }
   ],
   "source": [
    "#if else statement\n",
    "gift=59\n",
    "result=int(input(\"Enter your marks:\"))\n",
    "if(marks>gift):\n",
    "    print(\"your elgible to get the gift 🎁\")   \n",
    "else:\n",
    "    print(\"sorry dear , your not elgible to get the gift 🎁 , good luck try again next time\")"
   ]
  },
  {
   "cell_type": "code",
   "execution_count": 31,
   "id": "a972c319-2c93-43f5-b5ab-27a9fb24a912",
   "metadata": {},
   "outputs": [
    {
     "name": "stdin",
     "output_type": "stream",
     "text": [
      "Enter the number: 19\n"
     ]
    },
    {
     "name": "stdout",
     "output_type": "stream",
     "text": [
      "the number is special\n"
     ]
    }
   ],
   "source": [
    "#elif statement \n",
    "num =int(input(\"Enter the number:\"))\n",
    "if (num < 0):\n",
    "    print(\"Number is negative.\")\n",
    "elif (num == 0):\n",
    "    print(\"Number is Zero.\")\n",
    "elif(num==19):\n",
    "    print(\"the number is special\")\n",
    "else:\n",
    "    print(\"Number is positive.\")"
   ]
  },
  {
   "cell_type": "code",
   "execution_count": 12,
   "id": "1c163af0-54c2-4ef6-ab07-fb3f73a21f62",
   "metadata": {},
   "outputs": [
    {
     "name": "stdin",
     "output_type": "stream",
     "text": [
      "enter the number: 0\n"
     ]
    },
    {
     "name": "stdout",
     "output_type": "stream",
     "text": [
      "Number is Zero.\n"
     ]
    }
   ],
   "source": [
    "# elif\n",
    "num =int(input(\"enter the number:\"))\n",
    "if (num < 0):\n",
    "    print(\"Number is negative.\")\n",
    "elif (num == 0):\n",
    "    print(\"Number is Zero.\")\n",
    "        \n",
    "else:\n",
    "    print(\"Number is positive.\")"
   ]
  },
  {
   "cell_type": "code",
   "execution_count": 88,
   "id": "341746bc-18dd-4953-85fa-3fee5a359570",
   "metadata": {
    "scrolled": true
   },
   "outputs": [
    {
     "name": "stdout",
     "output_type": "stream",
     "text": [
      " Welcome to the Castle of Codes!\n"
     ]
    },
    {
     "name": "stdin",
     "output_type": "stream",
     "text": [
      "What is your name, brave traveler?  sania\n",
      "Enter your age:  21\n",
      "Are you a knight? (yes/no):  no\n"
     ]
    },
    {
     "name": "stdout",
     "output_type": "stream",
     "text": [
      "\n",
      " Checking your access level, sania\n",
      "\n",
      " ✅ You may enter the castle.\n",
      " You may enter the main hall, but not the Royal Chamber.\n"
     ]
    }
   ],
   "source": [
    "print(\" Welcome to the Castle of Codes!\")\n",
    "name = input(\"What is your name, brave traveler? \")\n",
    "\n",
    "age = int(input(\"Enter your age: \"))\n",
    "is_knight_input = input(\"Are you a knight? (yes/no): \").lower()\n",
    "\n",
    "# Convert to Boolean\n",
    "is_knight = is_knight_input == \"yes\"\n",
    "\n",
    "print(\"\\n Checking your access level,\", name)\n",
    "\n",
    "if age >= 18:\n",
    "    print(\"\\n ✅ You may enter the castle.\")\n",
    "    \n",
    "    if is_knight:\n",
    "        print(\" Because you're a knight, you may enter the Royal Chamber!\")\n",
    "    else:\n",
    "        print(\" You may enter the main hall, but not the Royal Chamber.\")\n",
    "        \n",
    "elif age >= 13:\n",
    "    print(\" You may visit the castle garden, young explorer.\")\n",
    "\n",
    "else:\n",
    "    print(\"❌ You’re too young. Come back when you're older.\")\n"
   ]
  },
  {
   "cell_type": "code",
   "execution_count": 16,
   "id": "ca32cffb-c5da-4935-a3b9-6ac2419686f1",
   "metadata": {},
   "outputs": [
    {
     "name": "stdout",
     "output_type": "stream",
     "text": [
      "Number is between 11-20\n"
     ]
    }
   ],
   "source": [
    "num = 18\n",
    "if (num < 0):\n",
    "    print(\"Number is negative.\")\n",
    "elif (num > 0):\n",
    "    if (num <= 10):\n",
    "        print(\"Number is between 1-10\")\n",
    "    elif (num > 10 and num <= 20):\n",
    "        print(\"Number is between 11-20\")\n",
    "    else:\n",
    "        print(\"Number is greater than 20\")\n",
    "else:\n",
    "    print(\"Number is zero\")"
   ]
  },
  {
   "cell_type": "code",
   "execution_count": 27,
   "id": "71df7cc8-8a23-4624-b9db-9d7aec2bf60e",
   "metadata": {},
   "outputs": [
    {
     "name": "stdin",
     "output_type": "stream",
     "text": [
      "enter your age 16\n"
     ]
    },
    {
     "name": "stdout",
     "output_type": "stream",
     "text": [
      "your allowed , but take permission from parents\n"
     ]
    },
    {
     "name": "stdin",
     "output_type": "stream",
     "text": [
      "did your parents say yes/no? yes\n"
     ]
    },
    {
     "name": "stdout",
     "output_type": "stream",
     "text": [
      "Okay, you can go!\n"
     ]
    }
   ],
   "source": [
    "#nested if elif else\n",
    "age=int(input(\"enter your age\"))\n",
    "if(age>16):\n",
    "    print(\"Your allowed for sleepovers\")\n",
    "elif(age==16):\n",
    "    print(\"your allowed , but take permission from parents\")\n",
    "    permission=input(\"did your parents say yes/no?\")\n",
    "    if  permission==\"yes\":\n",
    "        print(\"Okay, you can go!\")\n",
    "    else:\n",
    "        print(\" Wait until you get permission\")\n",
    "else:\n",
    "    print(\"sorry , your not allowed to sleepovers\")"
   ]
  },
  {
   "cell_type": "code",
   "execution_count": null,
   "id": "536ea368-79b2-459b-8ea4-3286bdc37820",
   "metadata": {},
   "outputs": [],
   "source": []
  }
 ],
 "metadata": {
  "kernelspec": {
   "display_name": "Python 3 (ipykernel)",
   "language": "python",
   "name": "python3"
  },
  "language_info": {
   "codemirror_mode": {
    "name": "ipython",
    "version": 3
   },
   "file_extension": ".py",
   "mimetype": "text/x-python",
   "name": "python",
   "nbconvert_exporter": "python",
   "pygments_lexer": "ipython3",
   "version": "3.12.3"
  }
 },
 "nbformat": 4,
 "nbformat_minor": 5
}
