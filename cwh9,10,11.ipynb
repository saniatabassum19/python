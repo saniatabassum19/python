{
 "cells": [
  {
   "cell_type": "code",
   "execution_count": 1,
   "id": "34710ee7-3ea0-41f5-b4f5-68780f338661",
   "metadata": {},
   "outputs": [
    {
     "name": "stdout",
     "output_type": "stream",
     "text": [
      "<class 'int'>\n",
      "<class 'float'>\n",
      "10.0\n",
      "<class 'float'>\n"
     ]
    }
   ],
   "source": [
    "# Python automatically converts\n",
    "# a to int\n",
    "a = 7\n",
    "print(type(a))\n",
    " \n",
    "# Python automatically converts b to float\n",
    "b = 3.0\n",
    "print(type(b))\n",
    " \n",
    "# Python automatically converts c to float as it is a float addition\n",
    "c = a + b\n",
    "print(c)\n",
    "print(type(c))"
   ]
  },
  {
   "cell_type": "code",
   "execution_count": null,
   "id": "203da742-5851-4661-9a73-eb9b1ae779ee",
   "metadata": {},
   "outputs": [],
   "source": []
  },
  {
   "cell_type": "code",
   "execution_count": 20,
   "id": "9d9a0652-cba6-43a3-86a6-15edfe735400",
   "metadata": {},
   "outputs": [
    {
     "name": "stdin",
     "output_type": "stream",
     "text": [
      "enter your name: sania\n"
     ]
    },
    {
     "name": "stdout",
     "output_type": "stream",
     "text": [
      "my name is  sania\n"
     ]
    },
    {
     "name": "stdin",
     "output_type": "stream",
     "text": [
      "Enter a number1: 5\n",
      "enter a number2: 3\n"
     ]
    },
    {
     "name": "stdout",
     "output_type": "stream",
     "text": [
      "8\n",
      "2\n",
      "15\n"
     ]
    }
   ],
   "source": [
    " a=input(\"enter your name:\")\n",
    "print(\"my name is \",a)\n",
    "x=input(\"Enter a number1:\")\n",
    "y=input(\"enter a number2:\")\n",
    "print(int(x)+int(y))\n",
    "print(int(x)-int(y))\n",
    "print(int(x)*int(y))"
   ]
  },
  {
   "cell_type": "code",
   "execution_count": 17,
   "id": "9eb7f775-3889-4b54-a983-89bd5304191a",
   "metadata": {},
   "outputs": [
    {
     "name": "stdout",
     "output_type": "stream",
     "text": [
      "sania \n",
      " nada\n",
      " Tabassum\n",
      "hello,sania \n",
      "\n"
     ]
    }
   ],
   "source": [
    "a=\"sania \\n\"\n",
    "b=\"nada\\n\"\n",
    "c='Tabassum'\n",
    "print(a,b,c)\n",
    "print(\"hello,\"+a)"
   ]
  },
  {
   "cell_type": "code",
   "execution_count": 20,
   "id": "c4e6ecf6-613a-4026-98d3-70652f7f38a8",
   "metadata": {},
   "outputs": [
    {
     "name": "stdout",
     "output_type": "stream",
     "text": [
      "He said, \"I want to eat an apple\"\n"
     ]
    }
   ],
   "source": [
    "apple='He said, \"I want to eat an apple\"'\n",
    "print(apple)"
   ]
  },
  {
   "cell_type": "code",
   "execution_count": 22,
   "id": "1be23ff4-7b6c-4d51-8f58-9faa129839e8",
   "metadata": {},
   "outputs": [
    {
     "name": "stdout",
     "output_type": "stream",
     "text": [
      "Lorem ipsum dolor sit amet,\n",
      "consectetur adipiscing elit,\n",
      "sed do eiusmod tempor incididunt\n",
      "ut labore \"et dolore magna aliqua\".\n"
     ]
    }
   ],
   "source": [
    "#multiline strings use ''' or \"\"\"\n",
    "hi='''Lorem ipsum dolor sit amet,\n",
    "consectetur adipiscing elit,\n",
    "sed do eiusmod tempor incididunt\n",
    "ut labore \"et dolore magna aliqua\".'''\n",
    "print(hi)"
   ]
  },
  {
   "cell_type": "code",
   "execution_count": 28,
   "id": "b05106b5-853e-4af5-abf8-e3c5aedba458",
   "metadata": {},
   "outputs": [
    {
     "name": "stdout",
     "output_type": "stream",
     "text": [
      "s\n",
      "a\n",
      "n\n",
      "i\n",
      "a\n",
      " \n",
      "\n",
      "\n"
     ]
    }
   ],
   "source": [
    "print(a[0])\n",
    "print(a[1])\n",
    "print(a[2])\n",
    "print(a[3])\n",
    "print(a[4])\n",
    "#print(a[5]) throws an index error\n"
   ]
  },
  {
   "cell_type": "code",
   "execution_count": 31,
   "id": "cbaf0559-1438-450d-b2fd-0fb6ad03488c",
   "metadata": {},
   "outputs": [
    {
     "name": "stdout",
     "output_type": "stream",
     "text": [
      "lets use a for loop \n",
      "\n",
      "L\n",
      "o\n",
      "r\n",
      "e\n",
      "m\n",
      " \n",
      "i\n",
      "p\n",
      "s\n",
      "u\n",
      "m\n",
      " \n",
      "d\n",
      "o\n",
      "l\n",
      "o\n",
      "r\n",
      " \n",
      "s\n",
      "i\n",
      "t\n",
      " \n",
      "a\n",
      "m\n",
      "e\n",
      "t\n",
      ",\n",
      "\n",
      "\n",
      "c\n",
      "o\n",
      "n\n",
      "s\n",
      "e\n",
      "c\n",
      "t\n",
      "e\n",
      "t\n",
      "u\n",
      "r\n",
      " \n",
      "a\n",
      "d\n",
      "i\n",
      "p\n",
      "i\n",
      "s\n",
      "c\n",
      "i\n",
      "n\n",
      "g\n",
      " \n",
      "e\n",
      "l\n",
      "i\n",
      "t\n",
      ",\n",
      "\n",
      "\n",
      "s\n",
      "e\n",
      "d\n",
      " \n",
      "d\n",
      "o\n",
      " \n",
      "e\n",
      "i\n",
      "u\n",
      "s\n",
      "m\n",
      "o\n",
      "d\n",
      " \n",
      "t\n",
      "e\n",
      "m\n",
      "p\n",
      "o\n",
      "r\n",
      " \n",
      "i\n",
      "n\n",
      "c\n",
      "i\n",
      "d\n",
      "i\n",
      "d\n",
      "u\n",
      "n\n",
      "t\n",
      "\n",
      "\n",
      "u\n",
      "t\n",
      " \n",
      "l\n",
      "a\n",
      "b\n",
      "o\n",
      "r\n",
      "e\n",
      " \n",
      "\"\n",
      "e\n",
      "t\n",
      " \n",
      "d\n",
      "o\n",
      "l\n",
      "o\n",
      "r\n",
      "e\n",
      " \n",
      "m\n",
      "a\n",
      "g\n",
      "n\n",
      "a\n",
      " \n",
      "a\n",
      "l\n",
      "i\n",
      "q\n",
      "u\n",
      "a\n",
      "\"\n",
      ".\n"
     ]
    }
   ],
   "source": [
    "print(\"lets use a for loop \\n\")\n",
    "for character in hi:\n",
    "    print(character)"
   ]
  },
  {
   "cell_type": "code",
   "execution_count": null,
   "id": "88470ba1-5a83-4d11-bafe-2c2585bf43f0",
   "metadata": {},
   "outputs": [],
   "source": []
  }
 ],
 "metadata": {
  "kernelspec": {
   "display_name": "Python 3 (ipykernel)",
   "language": "python",
   "name": "python3"
  },
  "language_info": {
   "codemirror_mode": {
    "name": "ipython",
    "version": 3
   },
   "file_extension": ".py",
   "mimetype": "text/x-python",
   "name": "python",
   "nbconvert_exporter": "python",
   "pygments_lexer": "ipython3",
   "version": "3.12.3"
  }
 },
 "nbformat": 4,
 "nbformat_minor": 5
}
