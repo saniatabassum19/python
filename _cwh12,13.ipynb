{
 "cells": [
  {
   "cell_type": "code",
   "execution_count": 2,
   "id": "9e01eb45-1776-4756-9fd6-c5df84b30a25",
   "metadata": {},
   "outputs": [
    {
     "name": "stdout",
     "output_type": "stream",
     "text": [
      "5\n",
      "mango\n",
      "the len of names is : 5\n"
     ]
    }
   ],
   "source": [
    "names=\"mango\"\n",
    "print(len(names))\n",
    "print(names[0:7])\n",
    "len1=len(names)\n",
    "print(\"the len of names is :\",len1)\n"
   ]
  },
  {
   "cell_type": "code",
   "execution_count": null,
   "id": "e6cdc082-2cfd-4c03-8866-3d4a22fac087",
   "metadata": {},
   "outputs": [],
   "source": []
  },
  {
   "cell_type": "code",
   "execution_count": 4,
   "id": "f40bea22-6507-4694-bef3-59a619d23117",
   "metadata": {},
   "outputs": [
    {
     "name": "stdout",
     "output_type": "stream",
     "text": [
      "ango\n",
      "mango\n",
      "mango\n",
      "ma\n",
      "a\n",
      "ng\n"
     ]
    }
   ],
   "source": [
    "print(names[1:5])#from second letter\n",
    "print(names[:10])#from beginning default\n",
    "print(names[:])#whole string\n",
    "print(names[0:-3])#(0:len(fruit(5)-3])#0,2#2 is ignored so 0 , 1 ma 0:-3\n",
    "print(names[1:-3])#1:5-3=1:2# 2 is ignored so only 1 that is a\n",
    "print(names[-3:-1])#5-3=2;5-1=4==== final 2:4 dont include right number "
   ]
  },
  {
   "cell_type": "code",
   "execution_count": 1,
   "id": "f1be6c94-4400-49a2-80f5-bba508758cb9",
   "metadata": {},
   "outputs": [],
   "source": [
    "#13 video"
   ]
  },
  {
   "cell_type": "code",
   "execution_count": 32,
   "id": "4bc42fc9-4be2-4f5f-954b-ae6a7627b545",
   "metadata": {},
   "outputs": [
    {
     "name": "stdout",
     "output_type": "stream",
     "text": [
      "35\n",
      "CARLOS !!!!!! !!!! !!!!!! !! CARLOS\n"
     ]
    }
   ],
   "source": [
    "#strings are immutable \n",
    "nm=\"Carlos !!!!!! !!!! !!!!!! !! Carlos\"\n",
    "print(len(nm))\n",
    "print(nm.upper())"
   ]
  },
  {
   "cell_type": "code",
   "execution_count": 33,
   "id": "a1079692-27af-477c-8c2f-94c40b9bb61a",
   "metadata": {
    "jp-MarkdownHeadingCollapsed": true
   },
   "outputs": [
    {
     "name": "stdout",
     "output_type": "stream",
     "text": [
      "carlos !!!!!! !!!! !!!!!! !! carlos\n"
     ]
    }
   ],
   "source": [
    "print(nm.lower())"
   ]
  },
  {
   "cell_type": "code",
   "execution_count": 34,
   "id": "62c65a86-8c03-4a58-bd04-757a7bd27ca9",
   "metadata": {},
   "outputs": [
    {
     "name": "stdout",
     "output_type": "stream",
     "text": [
      "Carlos !!!!!! !!!! !!!!!! !! Carlos\n"
     ]
    }
   ],
   "source": [
    "print(nm.rstrip(\"!\"))#removes whatever we want after word like ! , etc"
   ]
  },
  {
   "cell_type": "code",
   "execution_count": 35,
   "id": "db3d1353-855b-4d40-b805-09aef15eff16",
   "metadata": {},
   "outputs": [
    {
     "name": "stdout",
     "output_type": "stream",
     "text": [
      "lewis !!!!!! !!!! !!!!!! !! lewis\n"
     ]
    }
   ],
   "source": [
    "#to replace carlos with lewis \n",
    "print(nm.replace(\"Carlos\",\"lewis\"))"
   ]
  },
  {
   "cell_type": "code",
   "execution_count": 36,
   "id": "ede9036c-075c-499b-825e-c83e96be6719",
   "metadata": {},
   "outputs": [
    {
     "name": "stdout",
     "output_type": "stream",
     "text": [
      "['Carlos', '!!!!!!', '!!!!', '!!!!!!', '!!', 'Carlos']\n"
     ]
    }
   ],
   "source": [
    "print(nm.split(\" \"))"
   ]
  },
  {
   "cell_type": "code",
   "execution_count": 42,
   "id": "6e021e3f-829b-490b-b666-d612306a503f",
   "metadata": {},
   "outputs": [
    {
     "name": "stdout",
     "output_type": "stream",
     "text": [
      "welcome tO sania's blogs\n",
      "Welcome to sania's blogs\n"
     ]
    }
   ],
   "source": [
    "blog=\"welcome tO sania's blogs\"\n",
    "print(blog)\n",
    "print(blog.capitalize())"
   ]
  },
  {
   "cell_type": "code",
   "execution_count": 50,
   "id": "30f674a5-8bd2-470b-9ce0-d5cc9690964f",
   "metadata": {},
   "outputs": [
    {
     "name": "stdout",
     "output_type": "stream",
     "text": [
      "24\n",
      "                                      welcome tO sania's blogs                                     \n",
      "24\n"
     ]
    }
   ],
   "source": [
    "str1=\"welcome tO sania's blogs\"\n",
    "print(len(str1))\n",
    "print(str1.center(99))\n",
    "print(len(str1))"
   ]
  },
  {
   "cell_type": "code",
   "execution_count": 53,
   "id": "5b968ae3-c1e9-4038-ad66-7346f7abfee0",
   "metadata": {},
   "outputs": [
    {
     "name": "stdout",
     "output_type": "stream",
     "text": [
      "2\n",
      "18\n"
     ]
    }
   ],
   "source": [
    "print(nm.count(\"Carlos\"))\n",
    "print(nm.count(\"!\"))"
   ]
  },
  {
   "cell_type": "code",
   "execution_count": 59,
   "id": "8c41ec8b-712d-4c13-a1d7-eb76c9d0efdd",
   "metadata": {},
   "outputs": [
    {
     "name": "stdout",
     "output_type": "stream",
     "text": [
      "True\n"
     ]
    }
   ],
   "source": [
    "print(str1.endswith(\"blogs\"))"
   ]
  },
  {
   "cell_type": "code",
   "execution_count": 64,
   "id": "849ed1b3-6d7e-4a4f-a939-45c64fc7ae31",
   "metadata": {},
   "outputs": [
    {
     "name": "stdout",
     "output_type": "stream",
     "text": [
      "10\n"
     ]
    }
   ],
   "source": [
    "str1 = \"He's name is Dan. He is an honest man.\"\n",
    "print(str1.find(\"is\"))#same as index value is absent from the string then return -1."
   ]
  },
  {
   "cell_type": "code",
   "execution_count": 66,
   "id": "61e6665f-175b-4708-a7cc-85750b352c2d",
   "metadata": {},
   "outputs": [
    {
     "ename": "ValueError",
     "evalue": "substring not found",
     "output_type": "error",
     "traceback": [
      "\u001b[1;31m---------------------------------------------------------------------------\u001b[0m",
      "\u001b[1;31mValueError\u001b[0m                                Traceback (most recent call last)",
      "Cell \u001b[1;32mIn[66], line 2\u001b[0m\n\u001b[0;32m      1\u001b[0m str1 \u001b[38;5;241m=\u001b[39m \u001b[38;5;124m\"\u001b[39m\u001b[38;5;124mHe\u001b[39m\u001b[38;5;124m'\u001b[39m\u001b[38;5;124ms name is Dan. Dan is an honest man.\u001b[39m\u001b[38;5;124m\"\u001b[39m\n\u001b[1;32m----> 2\u001b[0m \u001b[38;5;28mprint\u001b[39m(\u001b[43mstr1\u001b[49m\u001b[38;5;241;43m.\u001b[39;49m\u001b[43mindex\u001b[49m\u001b[43m(\u001b[49m\u001b[38;5;124;43m\"\u001b[39;49m\u001b[38;5;124;43mDann\u001b[39;49m\u001b[38;5;124;43m\"\u001b[39;49m\u001b[43m)\u001b[49m)\n",
      "\u001b[1;31mValueError\u001b[0m: substring not found"
     ]
    }
   ],
   "source": [
    "str1 = \"He's name is Dan. Dan is an honest man.\"\n",
    "print(str1.index(\"Dann\")) #index fives error as  substring not found"
   ]
  },
  {
   "cell_type": "code",
   "execution_count": 69,
   "id": "b1d60120-82ef-4209-81f0-04552d015c58",
   "metadata": {},
   "outputs": [
    {
     "name": "stdout",
     "output_type": "stream",
     "text": [
      "True\n"
     ]
    }
   ],
   "source": [
    "str1 = \"WelcomeToTheConsole\"\n",
    "print(str1.isalnum())#returns True only if the entire string only consists of A-Z, a-z, 0-9. \n",
    "#If any other characters or punctuations are present, \n",
    "#then it returns False."
   ]
  },
  {
   "cell_type": "code",
   "execution_count": 73,
   "id": "931ebda5-3265-4973-999e-38e6e3740b73",
   "metadata": {},
   "outputs": [
    {
     "name": "stdout",
     "output_type": "stream",
     "text": [
      "False\n"
     ]
    }
   ],
   "source": [
    "\n",
    "str1 = \"Welcome12\" #returns True only if the entire string only consists of A-Z, a-z. \n",
    "print(str1.isalpha())\n",
    "#If any other characters or punctuations or numbers(0-9) are present\n",
    "#then it returns False\n"
   ]
  },
  {
   "cell_type": "code",
   "execution_count": 76,
   "id": "dc0f4770-a8b7-47cd-ad9d-12dbf2acccd0",
   "metadata": {},
   "outputs": [
    {
     "name": "stdout",
     "output_type": "stream",
     "text": [
      "True\n"
     ]
    }
   ],
   "source": [
    "str1 = \"hello world\"# returns True if all the characters in the string are lower case,\n",
    "#else it returns False.\n",
    "print(str1.islower())"
   ]
  },
  {
   "cell_type": "code",
   "execution_count": 77,
   "id": "66fe9c26-7e2d-4d56-80a8-8bbcf882bd08",
   "metadata": {},
   "outputs": [
    {
     "name": "stdout",
     "output_type": "stream",
     "text": [
      "True\n"
     ]
    }
   ],
   "source": [
    "str1 = \"We wish you a Merry Christmas\"\n",
    "print(str1.isprintable())#returns True if all the values within the given string are printable, \n",
    "#if not, then return False."
   ]
  },
  {
   "cell_type": "code",
   "execution_count": 78,
   "id": "4a4bbc89-2702-4715-8887-41fda00daa95",
   "metadata": {},
   "outputs": [
    {
     "name": "stdout",
     "output_type": "stream",
     "text": [
      "We wish you a Merry Christmas\n",
      "\n",
      "False\n"
     ]
    }
   ],
   "source": [
    "str1 = \"We wish you a Merry Christmas\\n\"\n",
    "print(str1)\n",
    "print(str1.isprintable())"
   ]
  },
  {
   "cell_type": "code",
   "execution_count": 83,
   "id": "7a615867-f427-41d6-8b08-4c1da6788de5",
   "metadata": {},
   "outputs": [
    {
     "name": "stdout",
     "output_type": "stream",
     "text": [
      "False\n",
      "True\n"
     ]
    }
   ],
   "source": [
    "str1 = \"     a   \"       #using Spacebar\n",
    "print(str1.isspace())\n",
    "str2 = \"       \"       #using Tab\n",
    "print(str2.isspace())"
   ]
  },
  {
   "cell_type": "code",
   "execution_count": 86,
   "id": "cbd49d12-b364-4451-a295-9f2154537884",
   "metadata": {},
   "outputs": [
    {
     "name": "stdout",
     "output_type": "stream",
     "text": [
      "True\n"
     ]
    }
   ],
   "source": [
    "str1 = \"World Health Organization\" \n",
    "print(str1.istitle())#returns True only if the first letter of each word of the string is capitalized, \n",
    "#else it returns False."
   ]
  },
  {
   "cell_type": "code",
   "execution_count": 87,
   "id": "989f60f8-99f1-45d2-a18d-3ae1d375da89",
   "metadata": {},
   "outputs": [
    {
     "name": "stdout",
     "output_type": "stream",
     "text": [
      "False\n"
     ]
    }
   ],
   "source": [
    "str2 = \"To kill a Mocking bird\"\n",
    "print(str2.istitle())"
   ]
  },
  {
   "cell_type": "code",
   "execution_count": 91,
   "id": "8f15067b-5c20-4a1e-ada2-e1eab61e5bb7",
   "metadata": {},
   "outputs": [
    {
     "name": "stdout",
     "output_type": "stream",
     "text": [
      "True\n"
     ]
    }
   ],
   "source": [
    "str1 = \"WORLD HEALTH ORGANIZATION\" \n",
    "print(str1.isupper())# True if all the characters in the string are upper case, else it returns False."
   ]
  },
  {
   "cell_type": "code",
   "execution_count": 94,
   "id": "59f0123d-ed8d-46bc-9db0-dbdc96a5a35c",
   "metadata": {},
   "outputs": [
    {
     "name": "stdout",
     "output_type": "stream",
     "text": [
      "True\n"
     ]
    }
   ],
   "source": [
    "str1 = \"Python is a Interpreted Language\" \n",
    "print(str1.startswith(\"Python\"))#hecks if the string starts with a given value. If yes then return True,\n",
    "#else return False."
   ]
  },
  {
   "cell_type": "code",
   "execution_count": 97,
   "id": "1287d426-1fa7-43e1-8ef4-1c6932331c12",
   "metadata": {},
   "outputs": [
    {
     "name": "stdout",
     "output_type": "stream",
     "text": [
      "pYTHON IS a iNTERPRETED lANGUAGE\n"
     ]
    }
   ],
   "source": [
    "str1 = \"Python is A Interpreted Language\" \n",
    "print(str1.swapcase())\n",
    "# changes the character casing of the string\n",
    "#Upper case are converted to lower case and lower case to upper case."
   ]
  },
  {
   "cell_type": "code",
   "execution_count": 99,
   "id": "850a0a27-c35e-452a-9a07-bedd76df9c5f",
   "metadata": {},
   "outputs": [
    {
     "name": "stdout",
     "output_type": "stream",
     "text": [
      "He'S Name Is Dan. San Is An Honest Man.\n"
     ]
    }
   ],
   "source": [
    "str1 = \"He's name is dan. san is an honest man.\"\n",
    "print(str1.title())\n",
    "# capitalizes each letter of the word within the string."
   ]
  },
  {
   "cell_type": "code",
   "execution_count": null,
   "id": "2d2ca314-44ef-4ce8-b2f1-1c32239fad91",
   "metadata": {},
   "outputs": [],
   "source": []
  }
 ],
 "metadata": {
  "kernelspec": {
   "display_name": "Python 3 (ipykernel)",
   "language": "python",
   "name": "python3"
  },
  "language_info": {
   "codemirror_mode": {
    "name": "ipython",
    "version": 3
   },
   "file_extension": ".py",
   "mimetype": "text/x-python",
   "name": "python",
   "nbconvert_exporter": "python",
   "pygments_lexer": "ipython3",
   "version": "3.12.3"
  }
 },
 "nbformat": 4,
 "nbformat_minor": 5
}
